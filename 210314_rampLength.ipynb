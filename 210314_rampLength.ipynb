{
 "cells": [
  {
   "cell_type": "code",
   "execution_count": 2,
   "metadata": {},
   "outputs": [
    {
     "name": "stdout",
     "output_type": "stream",
     "text": [
      "Collecting ezdxf\n",
      "\u001b[?25l  Downloading https://files.pythonhosted.org/packages/6c/67/1a6715d910cd4051e135c386df391fd45720fcf0c526f313958c3e43fe16/ezdxf-0.15.2-cp37-cp37m-manylinux2010_x86_64.whl (1.8MB)\n",
      "\u001b[K     |████████████████████████████████| 1.8MB 1.5MB/s eta 0:00:01\n",
      "\u001b[?25hRequirement already satisfied: pyparsing>=2.0.1 in /opt/conda/lib/python3.7/site-packages (from ezdxf) (2.4.5)\n",
      "Installing collected packages: ezdxf\n",
      "Successfully installed ezdxf-0.15.2\n"
     ]
    }
   ],
   "source": [
    "!pip install ezdxf"
   ]
  },
  {
   "cell_type": "code",
   "execution_count": 1,
   "metadata": {},
   "outputs": [],
   "source": [
    "import ezdxf"
   ]
  },
  {
   "cell_type": "code",
   "execution_count": 21,
   "metadata": {},
   "outputs": [],
   "source": [
    "doc = ezdxf.new()"
   ]
  },
  {
   "cell_type": "code",
   "execution_count": 22,
   "metadata": {},
   "outputs": [],
   "source": [
    "msp = doc.modelspace()"
   ]
  },
  {
   "cell_type": "code",
   "execution_count": 10,
   "metadata": {},
   "outputs": [
    {
     "data": {
      "text/plain": [
       "<class 'ezdxf.entities.circle.Circle'> CIRCLE(#2D)"
      ]
     },
     "execution_count": 10,
     "metadata": {},
     "output_type": "execute_result"
    }
   ],
   "source": [
    "msp.add_circle([0,0], 6000)"
   ]
  },
  {
   "cell_type": "code",
   "execution_count": 11,
   "metadata": {},
   "outputs": [
    {
     "data": {
      "text/plain": [
       "<class 'ezdxf.entities.circle.Circle'> CIRCLE(#2E)"
      ]
     },
     "execution_count": 11,
     "metadata": {},
     "output_type": "execute_result"
    }
   ],
   "source": [
    "msp.add_circle([0,0], 12500)"
   ]
  },
  {
   "cell_type": "code",
   "execution_count": 2,
   "metadata": {},
   "outputs": [],
   "source": [
    "import math"
   ]
  },
  {
   "cell_type": "code",
   "execution_count": 3,
   "metadata": {},
   "outputs": [],
   "source": [
    "def addOuterLine(msp, x):\n",
    "    msp.add_lwpolyline([[-12500, 0], [-12500, x]])\n",
    "    msp.add_lwpolyline([[0, 12500], [-x, 12500]])\n",
    "    msp.add_arc([-x, x], 12500-x, 90, 180)"
   ]
  },
  {
   "cell_type": "code",
   "execution_count": 14,
   "metadata": {},
   "outputs": [
    {
     "data": {
      "text/plain": [
       "<class 'ezdxf.entities.circle.Circle'> CIRCLE(#30)"
      ]
     },
     "execution_count": 14,
     "metadata": {},
     "output_type": "execute_result"
    }
   ],
   "source": [
    "msp.add_circle([0,0], -10000)"
   ]
  },
  {
   "cell_type": "code",
   "execution_count": 26,
   "metadata": {},
   "outputs": [],
   "source": [
    "addOuterLine(msp, 8500)"
   ]
  },
  {
   "cell_type": "code",
   "execution_count": 4,
   "metadata": {},
   "outputs": [],
   "source": [
    "def addInnerLine(msp):\n",
    "    msp.add_arc([0,0], 6000, 90, 180)"
   ]
  },
  {
   "cell_type": "code",
   "execution_count": null,
   "metadata": {},
   "outputs": [],
   "source": []
  },
  {
   "cell_type": "code",
   "execution_count": 50,
   "metadata": {},
   "outputs": [],
   "source": [
    "points = []\n",
    "for i in range(91):\n",
    "    th = math.radians(i)\n",
    "    if th < math.atan(7500/12500):\n",
    "        innerPathCenterDist = 12500/4/math.cos(th) + 4500\n",
    "    elif th < (math.pi/2 - math.atan(7500/12500)):\n",
    "        outerLineDist = 7500*(math.sin(th)+math.cos(th)) + ((7500*(math.sin(th)+math.cos(th)))**2-(7500**2-12500**2+25000*7500))**0.5\n",
    "        innerPathCenterDist = (outerLineDist-6000)/4 + 6000\n",
    "    else:\n",
    "        innerPathCenterDist = 12500/4/math.sin(th) + 4500\n",
    "    points.append([-innerPathCenterDist*math.cos(th), innerPathCenterDist*math.sin(th)])\n",
    "\n"
   ]
  },
  {
   "cell_type": "code",
   "execution_count": 41,
   "metadata": {},
   "outputs": [
    {
     "data": {
      "text/plain": [
       "25"
      ]
     },
     "execution_count": 41,
     "metadata": {},
     "output_type": "execute_result"
    }
   ],
   "source": [
    "5**2"
   ]
  },
  {
   "cell_type": "code",
   "execution_count": 42,
   "metadata": {},
   "outputs": [
    {
     "ename": "SyntaxError",
     "evalue": "invalid syntax (<ipython-input-42-514dba21e55a>, line 1)",
     "output_type": "error",
     "traceback": [
      "\u001b[0;36m  File \u001b[0;32m\"<ipython-input-42-514dba21e55a>\"\u001b[0;36m, line \u001b[0;32m1\u001b[0m\n\u001b[0;31m    b`=1\u001b[0m\n\u001b[0m     ^\u001b[0m\n\u001b[0;31mSyntaxError\u001b[0m\u001b[0;31m:\u001b[0m invalid syntax\n"
     ]
    }
   ],
   "source": [
    "b`=1"
   ]
  },
  {
   "cell_type": "code",
   "execution_count": null,
   "metadata": {},
   "outputs": [],
   "source": []
  },
  {
   "cell_type": "code",
   "execution_count": 52,
   "metadata": {},
   "outputs": [
    {
     "data": {
      "text/plain": [
       "<class 'ezdxf.entities.lwpolyline.LWPolyline'> LWPOLYLINE(#31)"
      ]
     },
     "execution_count": 52,
     "metadata": {},
     "output_type": "execute_result"
    }
   ],
   "source": [
    "doc.modelspace().add_lwpolyline(points)"
   ]
  },
  {
   "cell_type": "code",
   "execution_count": 34,
   "metadata": {
    "scrolled": true
   },
   "outputs": [
    {
     "data": {
      "text/plain": [
       "[[-7625.0, 0.0],\n",
       " [-7624.3146282037615, 133.08290686845575],\n",
       " [-7622.258721585931, 266.175139822966],\n",
       " [-7618.8329063955825, 399.28611335275104],\n",
       " [-7614.038226169209, 532.4254191720339],\n",
       " [-7607.876141412855, 665.6029158829742],\n",
       " [-7600.348529157229, 798.8288199096795],\n",
       " [-7591.457682385949, 932.1137981447405],\n",
       " [-7581.206309337066, 1065.4690627652676],\n",
       " [-7569.59753267812, 1198.906468695215],\n",
       " [-7556.634888554936, 1332.4386142151395],\n",
       " [-7542.322325514488, 1466.0789452498218],\n",
       " [-7526.664203302125, 1599.8418638987362],\n",
       " [-7509.665291533558, 1733.7428418147772],\n",
       " [-7491.330768241984, 1867.7985390834444],\n",
       " [-7471.6662183008075, 2002.0269293086017],\n",
       " [-7450.677631722435, 2136.447431672771],\n",
       " [-7428.37140183366, 2271.081050810629],\n",
       " [-7404.75432332819, 2405.9505254150954],\n",
       " [-7379.833590196926, 2541.080486587409],\n",
       " [-7353.6167935365875, 2676.4976270473912],\n",
       " [-7326.111919237408, 2812.2308824395254],\n",
       " [-7297.327345550543, 2948.311626106469],\n",
       " [-7267.271840535982, 3084.7738788567467],\n",
       " [-7235.954559391704, 3221.6545354302766],\n",
       " [-7203.385041664925, 3358.993609567518],\n",
       " [-7169.573208346252, 3496.834499819165],\n",
       " [-7134.529358847655, 3635.2242784980504],\n",
       " [-7098.264167865172, 3774.2140064786295],\n",
       " [-7060.7886821272805, 3913.85907689842],\n",
       " [-7022.114317029974, 4054.21959121758],\n",
       " [-6982.252853159506, 4195.36077155637],\n",
       " [-6941.216432703916, 4337.35341376607],\n",
       " [-6899.017555754408, 4480.274386309842],\n",
       " [-6855.669076497687, 4624.207180750945],\n",
       " [-6811.184199300463, 4769.24252048505],\n",
       " [-6765.576474687264, 4915.479035332882],\n",
       " [-6718.8597952128175, 5063.024010755449],\n",
       " [-6671.048391230248, 5211.994221798954],\n",
       " [-6622.156826556368, 5362.516863458665],\n",
       " [-6572.1999940354, 5514.730591018426],\n",
       " [-6521.193111002474, 5668.786686132991],\n",
       " [-6469.151714648274, 5824.850367045611],\n",
       " [-6416.091657286267, 5983.102264461437],\n",
       " [-6362.029101523931, 6143.740088337594]]"
      ]
     },
     "execution_count": 34,
     "metadata": {},
     "output_type": "execute_result"
    }
   ],
   "source": [
    "points"
   ]
  },
  {
   "cell_type": "code",
   "execution_count": 6,
   "metadata": {},
   "outputs": [
    {
     "data": {
      "text/plain": [
       "<class 'ezdxf.entities.lwpolyline.LWPolyline'> LWPOLYLINE(#2D)"
      ]
     },
     "execution_count": 6,
     "metadata": {},
     "output_type": "execute_result"
    }
   ],
   "source": [
    "msp.add_lwpolyline([[0,0], [100,100]])"
   ]
  },
  {
   "cell_type": "code",
   "execution_count": null,
   "metadata": {},
   "outputs": [],
   "source": []
  },
  {
   "cell_type": "code",
   "execution_count": null,
   "metadata": {},
   "outputs": [],
   "source": []
  },
  {
   "cell_type": "code",
   "execution_count": null,
   "metadata": {},
   "outputs": [],
   "source": []
  },
  {
   "cell_type": "code",
   "execution_count": 9,
   "metadata": {},
   "outputs": [],
   "source": [
    "import ezdxf\n",
    "import math"
   ]
  },
  {
   "cell_type": "code",
   "execution_count": 14,
   "metadata": {},
   "outputs": [],
   "source": [
    "INNER_CORNER_RADIUS = 6000\n",
    "PATH_WIDTH = 6500\n",
    "CORNER_BOX_SIZE = INNER_CORNER_RADIUS + PATH_WIDTH"
   ]
  },
  {
   "cell_type": "code",
   "execution_count": 10,
   "metadata": {},
   "outputs": [],
   "source": [
    "def addInnerLine(msp):\n",
    "    msp.add_arc([0,0], INNER_CORNER_RADIUS, 90, 180)"
   ]
  },
  {
   "cell_type": "code",
   "execution_count": 15,
   "metadata": {},
   "outputs": [],
   "source": [
    "def addOuterLine(msp, x):\n",
    "    outerLineCornerRadius = CORNER_BOX_SIZE - x\n",
    "    msp.add_lwpolyline([[-CORNER_BOX_SIZE, 0], [-CORNER_BOX_SIZE, x]])\n",
    "    msp.add_lwpolyline([[0, CORNER_BOX_SIZE], [-x, CORNER_BOX_SIZE]])\n",
    "    msp.add_arc([-x, x], outerLineCornerRadius, 90, 180)"
   ]
  },
  {
   "cell_type": "code",
   "execution_count": 23,
   "metadata": {},
   "outputs": [],
   "source": [
    "def addDivLine(msp, x):\n",
    "    outerLineCornerRadius = CORNER_BOX_SIZE - x\n",
    "    divLineCornerRadius = INNER_CORNER_RADIUS + (outerLineCornerRadius-INNER_CORNER_RADIUS)/2\n",
    "    msp.add_lwpolyline([\n",
    "        [-CORNER_BOX_SIZE + outerLineCornerRadius/2, 0], \n",
    "        [-CORNER_BOX_SIZE + outerLineCornerRadius/2, x/2]\n",
    "    ])\n",
    "    msp.add_lwpolyline([\n",
    "        [0, CORNER_BOX_SIZE - outerLineCornerRadius/2], \n",
    "        [-x/2, CORNER_BOX_SIZE - outerLineCornerRadius/2]\n",
    "    ])\n",
    "    msp.add_arc([-x/2, x/2], divLineCornerRadius, 90, 180)"
   ]
  },
  {
   "cell_type": "code",
   "execution_count": 5,
   "metadata": {},
   "outputs": [],
   "source": [
    "# def addPathLines(msp, x):\n",
    "#     innerPathCenterPoints = []\n",
    "#     pathCenterPoints = []\n",
    "#     outerPathCenterPoints = []\n",
    "    \n",
    "#     for i in range(91):\n",
    "#         th = math.radians(i)\n",
    "#         if th < math.atan(x/12500):\n",
    "#             innerPathCenterDist = (12500/math.cos(th)-6000)/4 + 6000\n",
    "#             pathCenterDist = (12500/math.cos(th)-6000)/2 + 6000\n",
    "#             outerPathCenterDist = (12500/math.cos(th)-6000)*3/4 + 6000\n",
    "            \n",
    "#         elif th < (math.pi/2 - math.atan(x/12500)):\n",
    "#             outerLineDist = x*(math.sin(th)+math.cos(th)) + ((x*(math.sin(th)+math.cos(th)))**2-(x**2-12500**2+25000*x))**0.5\n",
    "            \n",
    "#             innerPathCenterDist = (outerLineDist-6000)/4 + 6000\n",
    "#             pathCenterDist = (outerLineDist-6000)/2 + 6000\n",
    "#             outerPathCenterDist = (outerLineDist-6000)*3/4 + 6000\n",
    "            \n",
    "#         else:\n",
    "#             innerPathCenterDist = (12500/math.sin(th)-6000)/4 + 6000\n",
    "#             pathCenterDist = (12500/math.sin(th)-6000)/2 + 6000\n",
    "#             outerPathCenterDist = (12500/math.sin(th)-6000)*3/4 + 6000\n",
    "            \n",
    "#         innerPathCenterPoints.append([-innerPathCenterDist*math.cos(th), innerPathCenterDist*math.sin(th)])\n",
    "#         pathCenterPoints.append([-pathCenterDist*math.cos(th), pathCenterDist*math.sin(th)])\n",
    "#         outerPathCenterPoints.append([-outerPathCenterDist*math.cos(th), outerPathCenterDist*math.sin(th)])\n",
    "\n",
    "#     msp.add_lwpolyline(innerPathCenterPoints)\n",
    "#     msp.add_lwpolyline(pathCenterPoints)\n",
    "#     msp.add_lwpolyline(outerPathCenterPoints)\n",
    "    "
   ]
  },
  {
   "cell_type": "code",
   "execution_count": 25,
   "metadata": {},
   "outputs": [],
   "source": [
    "def getDistFromInnerToOuter(boxSize, x, th):\n",
    "    if th < math.atan(x/boxSize):\n",
    "        return boxSize/math.cos(th)-INNER_CORNER_RADIUS\n",
    "    elif th < (math.pi/2 - math.atan(x/boxSize)):\n",
    "        return x*(math.sin(th)+math.cos(th)) + ((x*(math.sin(th)+math.cos(th)))**2 - (x**2 - boxSize**2 + 2*boxSize*x))**0.5 - INNER_CORNER_RADIUS\n",
    "    else:\n",
    "        return boxSize/math.sin(th)-INNER_CORNER_RADIUS"
   ]
  },
  {
   "cell_type": "code",
   "execution_count": 29,
   "metadata": {},
   "outputs": [],
   "source": [
    "def addPathLines(msp, x):\n",
    "    outerLineCornerRadius = CORNER_BOX_SIZE - x\n",
    "    divLineCornerRadius = INNER_CORNER_RADIUS + (outerLineCornerRadius-INNER_CORNER_RADIUS)/2\n",
    "    divBoxSize = CORNER_BOX_SIZE - PATH_WIDTH/2\n",
    "    divX = x/2\n",
    "    \n",
    "    innerPathCenterPoints = []\n",
    "    outerPathCenterPoints = []\n",
    "    \n",
    "    for i in range(91):\n",
    "        th = math.radians(i)\n",
    "        pathWidth = getDistFromInnerToOuter(CORNER_BOX_SIZE, x, th)\n",
    "        innerPathWidth = getDistFromInnerToOuter(divBoxSize, divX, th)\n",
    "        \n",
    "        innerPathCenterDist = 6000 + innerPathWidth/2\n",
    "        outerPathCenterDist = 6000 + innerPathWidth + (pathWidth-innerPathWidth)/2\n",
    "            \n",
    "        innerPathCenterPoints.append([-innerPathCenterDist*math.cos(th), innerPathCenterDist*math.sin(th)])\n",
    "        outerPathCenterPoints.append([-outerPathCenterDist*math.cos(th), outerPathCenterDist*math.sin(th)])\n",
    "\n",
    "    msp.add_lwpolyline(innerPathCenterPoints)\n",
    "    msp.add_lwpolyline(outerPathCenterPoints)\n",
    "    "
   ]
  },
  {
   "cell_type": "code",
   "execution_count": null,
   "metadata": {},
   "outputs": [],
   "source": []
  },
  {
   "cell_type": "code",
   "execution_count": 26,
   "metadata": {},
   "outputs": [],
   "source": [
    "def draw(doc, x):\n",
    "    msp = doc.modelspace()\n",
    "    \n",
    "    addInnerLine(msp)\n",
    "    addOuterLine(msp, x)\n",
    "    addDivLine(msp, x)\n",
    "    addPathLines(msp, x)\n",
    "    "
   ]
  },
  {
   "cell_type": "code",
   "execution_count": 30,
   "metadata": {},
   "outputs": [],
   "source": [
    "doc = ezdxf.new()\n",
    "# draw(doc, 5000)\n",
    "draw(doc, 6000)\n"
   ]
  },
  {
   "cell_type": "code",
   "execution_count": 31,
   "metadata": {},
   "outputs": [],
   "source": [
    "doc.saveas('test.dxf')"
   ]
  }
 ],
 "metadata": {
  "kernelspec": {
   "display_name": "Python 3",
   "language": "python",
   "name": "python3"
  },
  "language_info": {
   "codemirror_mode": {
    "name": "ipython",
    "version": 3
   },
   "file_extension": ".py",
   "mimetype": "text/x-python",
   "name": "python",
   "nbconvert_exporter": "python",
   "pygments_lexer": "ipython3",
   "version": "3.7.3"
  }
 },
 "nbformat": 4,
 "nbformat_minor": 2
}
